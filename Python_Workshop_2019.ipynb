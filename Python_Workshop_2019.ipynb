{
 "cells": [
  {
   "cell_type": "markdown",
   "metadata": {},
   "source": [
    "[Install](https://conda.io/docs/user-guide/install/index.html) Jupyter Notebook."
   ]
  },
  {
   "cell_type": "markdown",
   "metadata": {},
   "source": [
    "# $$Python\\ Workshop\\ 2019$$\n",
    "\n",
    "Tədbirin gündəliyi:\n",
    "* Kaggle nədir və Kaggle vasitəsilə neçə data elmini öyrənmək olar;\n",
    "* Məlumat analizində Python-nun yeri;\n",
    "* Real nümunə üzərində məlumat analizi;\n",
    "\n",
    "Real nümunə haqqında:\n",
    "* **`Data collection / web crawling`** (məlumat toplanması) - ən böyük onlayn iş elanı veb səhifəsindən məlumatların avtomatik götürülməsi və faylda saxlanılması;\n",
    "* **`Data cleaning`** (məlumat təmizlənməsi) - dəyişənlərin tipinin dəyişdirilməsi, catışmayan məlumatların bərpa olunması, artıq sətrlərin təmizlənməsi;\n",
    "* **`Feature generation`** (yeni dəyişənlərin yaradılması) - əldə olan məlumatlardan yenisinin yaradılması, misal üçün: elanın mətnindən hansı dildə yazılması;\n",
    "* **`Data visualizatoin`** (məlumatların təsviri) - məlumatların vizual təqdim olunması;"
   ]
  },
  {
   "cell_type": "code",
   "execution_count": 1,
   "metadata": {},
   "outputs": [
    {
     "data": {
      "text/plain": [
       "'p#y#t#h#o#n'"
      ]
     },
     "execution_count": 1,
     "metadata": {},
     "output_type": "execute_result"
    }
   ],
   "source": [
    "'#'.join(ch for ch in 'python')"
   ]
  },
  {
   "cell_type": "code",
   "execution_count": 2,
   "metadata": {},
   "outputs": [
    {
     "data": {
      "text/plain": [
       "['p', 'y', 't', 'h', 'o', 'n']"
      ]
     },
     "execution_count": 2,
     "metadata": {},
     "output_type": "execute_result"
    }
   ],
   "source": [
    "list('python')"
   ]
  },
  {
   "cell_type": "code",
   "execution_count": 3,
   "metadata": {},
   "outputs": [
    {
     "name": "stdout",
     "output_type": "stream",
     "text": [
      "p\n",
      "y\n",
      "t\n",
      "h\n",
      "o\n",
      "n\n"
     ]
    }
   ],
   "source": [
    "for ch in 'python':\n",
    "    print(ch)"
   ]
  },
  {
   "cell_type": "code",
   "execution_count": null,
   "metadata": {},
   "outputs": [],
   "source": []
  },
  {
   "cell_type": "markdown",
   "metadata": {},
   "source": [
    "## $$The\\ Zen\\ of\\ Python$$"
   ]
  },
  {
   "cell_type": "code",
   "execution_count": 4,
   "metadata": {},
   "outputs": [
    {
     "name": "stdout",
     "output_type": "stream",
     "text": [
      "The Zen of Python, by Tim Peters\n",
      "\n",
      "Beautiful is better than ugly.\n",
      "Explicit is better than implicit.\n",
      "Simple is better than complex.\n",
      "Complex is better than complicated.\n",
      "Flat is better than nested.\n",
      "Sparse is better than dense.\n",
      "Readability counts.\n",
      "Special cases aren't special enough to break the rules.\n",
      "Although practicality beats purity.\n",
      "Errors should never pass silently.\n",
      "Unless explicitly silenced.\n",
      "In the face of ambiguity, refuse the temptation to guess.\n",
      "There should be one-- and preferably only one --obvious way to do it.\n",
      "Although that way may not be obvious at first unless you're Dutch.\n",
      "Now is better than never.\n",
      "Although never is often better than *right* now.\n",
      "If the implementation is hard to explain, it's a bad idea.\n",
      "If the implementation is easy to explain, it may be a good idea.\n",
      "Namespaces are one honking great idea -- let's do more of those!\n"
     ]
    }
   ],
   "source": [
    "import this"
   ]
  },
  {
   "cell_type": "markdown",
   "metadata": {},
   "source": [
    "Understanding `The Zen of Python` via [examples](https://artifex.org/~hblanks/talks/2011/pep20_by_example.html)."
   ]
  },
  {
   "cell_type": "markdown",
   "metadata": {},
   "source": [
    "## $$1.\\ Import\\ packages$$"
   ]
  },
  {
   "cell_type": "code",
   "execution_count": 5,
   "metadata": {},
   "outputs": [],
   "source": [
    "%matplotlib inline\n",
    "\n",
    "import requests\n",
    "import os\n",
    "\n",
    "import numpy as np\n",
    "import pandas as pd\n",
    "import matplotlib.pyplot as plt\n",
    "import seaborn as sns\n",
    "\n",
    "import langdetect\n",
    "\n",
    "from wordcloud import WordCloud"
   ]
  },
  {
   "cell_type": "markdown",
   "metadata": {},
   "source": [
    "## $$2.\\ Import\\ data\\ from\\ website$$"
   ]
  },
  {
   "cell_type": "code",
   "execution_count": 6,
   "metadata": {},
   "outputs": [
    {
     "name": "stdout",
     "output_type": "stream",
     "text": [
      "File doesn't exit. Extract from website.\n"
     ]
    }
   ],
   "source": [
    "# if `jobs.csv` exist don't extract data from website\n",
    "\n",
    "file_name = 'jobs.csv'\n",
    "url = 'http://jobsearch.az/'\n",
    "\n",
    "if not os.path.isfile(file_name):\n",
    "    print(\"File doesn't exit. Extract from website.\")\n",
    "    html = requests.get(url).content\n",
    "    df_list = pd.read_html(html)\n",
    "    jobs = df_list[9]\n",
    "    # export to csv\n",
    "    jobs.to_csv('jobs.csv', index=False)\n",
    "else:\n",
    "    print(\"File exist. Read from file.\")\n",
    "    jobs = pd.read_csv(file_name)"
   ]
  },
  {
   "cell_type": "markdown",
   "metadata": {},
   "source": [
    "Remove first column and put first row as column."
   ]
  },
  {
   "cell_type": "code",
   "execution_count": 7,
   "metadata": {},
   "outputs": [],
   "source": [
    "# jobs.drop(columns=[jobs.columns[0]], axis=1, inplace=True) # remove first column\n",
    "jobs.columns = jobs.iloc[0, :] # rename column to first row\n",
    "jobs = jobs.iloc[1:, :] # remove first row"
   ]
  },
  {
   "cell_type": "code",
   "execution_count": 8,
   "metadata": {},
   "outputs": [
    {
     "data": {
      "text/html": [
       "<div>\n",
       "<style scoped>\n",
       "    .dataframe tbody tr th:only-of-type {\n",
       "        vertical-align: middle;\n",
       "    }\n",
       "\n",
       "    .dataframe tbody tr th {\n",
       "        vertical-align: top;\n",
       "    }\n",
       "\n",
       "    .dataframe thead th {\n",
       "        text-align: right;\n",
       "    }\n",
       "</style>\n",
       "<table border=\"1\" class=\"dataframe\">\n",
       "  <thead>\n",
       "    <tr style=\"text-align: right;\">\n",
       "      <th></th>\n",
       "      <th>POSITION</th>\n",
       "      <th>EMPLOYER</th>\n",
       "      <th>POSTED</th>\n",
       "      <th>DEADLINE</th>\n",
       "    </tr>\n",
       "  </thead>\n",
       "  <tbody>\n",
       "    <tr>\n",
       "      <th>373</th>\n",
       "      <td>Translator</td>\n",
       "      <td>KPMG Azerbaijan</td>\n",
       "      <td>2018-12-27</td>\n",
       "      <td>2019-01-26</td>\n",
       "    </tr>\n",
       "    <tr>\n",
       "      <th>243</th>\n",
       "      <td>Sales Manager in Tourism (new)</td>\n",
       "      <td>Company</td>\n",
       "      <td>2019-01-07</td>\n",
       "      <td>2019-02-06</td>\n",
       "    </tr>\n",
       "    <tr>\n",
       "      <th>127</th>\n",
       "      <td>Satış meneceri (new)</td>\n",
       "      <td>Fil Agency</td>\n",
       "      <td>2019-01-09</td>\n",
       "      <td>2019-02-08</td>\n",
       "    </tr>\n",
       "    <tr>\n",
       "      <th>335</th>\n",
       "      <td>B2B Sales Manager</td>\n",
       "      <td>Gulfstream Distribution</td>\n",
       "      <td>2018-12-28</td>\n",
       "      <td>2019-01-27</td>\n",
       "    </tr>\n",
       "    <tr>\n",
       "      <th>490</th>\n",
       "      <td>Restaurant Supervisor</td>\n",
       "      <td>Fairmont Baku, Hotels &amp; Residences</td>\n",
       "      <td>2018-12-21</td>\n",
       "      <td>2019-01-20</td>\n",
       "    </tr>\n",
       "    <tr>\n",
       "      <th>88</th>\n",
       "      <td>Business consultant (new)</td>\n",
       "      <td>RSM Azerbaijan</td>\n",
       "      <td>2019-01-10</td>\n",
       "      <td>2019-02-09</td>\n",
       "    </tr>\n",
       "    <tr>\n",
       "      <th>172</th>\n",
       "      <td>Korporativ Hüquqşünas (new)</td>\n",
       "      <td>Unibank</td>\n",
       "      <td>2019-01-08</td>\n",
       "      <td>2019-02-07</td>\n",
       "    </tr>\n",
       "    <tr>\n",
       "      <th>25</th>\n",
       "      <td>Korporativ sığorta şöbəsi, assistent (new)</td>\n",
       "      <td>PASHA Life</td>\n",
       "      <td>2019-01-11</td>\n",
       "      <td>2019-02-10</td>\n",
       "    </tr>\n",
       "    <tr>\n",
       "      <th>79</th>\n",
       "      <td>Sales Executive (new)</td>\n",
       "      <td>Hotel</td>\n",
       "      <td>2019-01-10</td>\n",
       "      <td>2019-02-09</td>\n",
       "    </tr>\n",
       "    <tr>\n",
       "      <th>175</th>\n",
       "      <td>IT Specialist (new)</td>\n",
       "      <td>PDL World</td>\n",
       "      <td>2019-01-08</td>\n",
       "      <td>2019-02-07</td>\n",
       "    </tr>\n",
       "    <tr>\n",
       "      <th>526</th>\n",
       "      <td>Various positions</td>\n",
       "      <td>PASHA Inshaat LLC</td>\n",
       "      <td>2018-12-20</td>\n",
       "      <td>2019-01-19</td>\n",
       "    </tr>\n",
       "    <tr>\n",
       "      <th>231</th>\n",
       "      <td>İR üzrə kiçik mütəxəssis (new)</td>\n",
       "      <td>Molbulak</td>\n",
       "      <td>2019-01-07</td>\n",
       "      <td>2019-02-06</td>\n",
       "    </tr>\n",
       "    <tr>\n",
       "      <th>227</th>\n",
       "      <td>Mühasib (new)</td>\n",
       "      <td>Kristal Abşeron MTK</td>\n",
       "      <td>2019-01-07</td>\n",
       "      <td>2019-02-06</td>\n",
       "    </tr>\n",
       "    <tr>\n",
       "      <th>581</th>\n",
       "      <td>Welding Engineer/ Qaynaq üzrə mühəndis</td>\n",
       "      <td>BOS Shelf LLC</td>\n",
       "      <td>2018-12-18</td>\n",
       "      <td>2019-01-17</td>\n",
       "    </tr>\n",
       "    <tr>\n",
       "      <th>415</th>\n",
       "      <td>Senior Tax Accountant</td>\n",
       "      <td>Fashion Retail Company</td>\n",
       "      <td>2018-12-25</td>\n",
       "      <td>2019-01-24</td>\n",
       "    </tr>\n",
       "    <tr>\n",
       "      <th>409</th>\n",
       "      <td>Dizayner</td>\n",
       "      <td>Avrora</td>\n",
       "      <td>2018-12-25</td>\n",
       "      <td>2019-01-24</td>\n",
       "    </tr>\n",
       "    <tr>\n",
       "      <th>532</th>\n",
       "      <td>Менеджер по работе с ключевыми клиентами</td>\n",
       "      <td>Lalafo</td>\n",
       "      <td>2018-12-19</td>\n",
       "      <td>2019-01-18</td>\n",
       "    </tr>\n",
       "    <tr>\n",
       "      <th>229</th>\n",
       "      <td>Sales Adviser (new)</td>\n",
       "      <td>PUMA</td>\n",
       "      <td>2019-01-07</td>\n",
       "      <td>2019-02-06</td>\n",
       "    </tr>\n",
       "    <tr>\n",
       "      <th>137</th>\n",
       "      <td>Ведущий PL/SQL разработчик (new)</td>\n",
       "      <td>VTB Bank</td>\n",
       "      <td>2019-01-09</td>\n",
       "      <td>2019-02-08</td>\n",
       "    </tr>\n",
       "    <tr>\n",
       "      <th>156</th>\n",
       "      <td>SMM üzrə mütəxəssis ( marketinq üzrə mütəxəssi...</td>\n",
       "      <td>Bakı Taksi Xidməti</td>\n",
       "      <td>2019-01-08</td>\n",
       "      <td>2019-02-07</td>\n",
       "    </tr>\n",
       "    <tr>\n",
       "      <th>203</th>\n",
       "      <td>Ofis Meneceri (new)</td>\n",
       "      <td>Developia Engineering Academy</td>\n",
       "      <td>2019-01-07</td>\n",
       "      <td>2019-02-06</td>\n",
       "    </tr>\n",
       "    <tr>\n",
       "      <th>171</th>\n",
       "      <td>HR and Payroll Specialist (new)</td>\n",
       "      <td>Caspian Entertainment Company LLC - Pasha Hold...</td>\n",
       "      <td>2019-01-08</td>\n",
       "      <td>2019-02-07</td>\n",
       "    </tr>\n",
       "    <tr>\n",
       "      <th>562</th>\n",
       "      <td>Bid manager (Head of Tender department)</td>\n",
       "      <td>Evrascon ASC</td>\n",
       "      <td>2018-12-18</td>\n",
       "      <td>2019-01-17</td>\n",
       "    </tr>\n",
       "    <tr>\n",
       "      <th>439</th>\n",
       "      <td>İnfrastruktur koordinatoru</td>\n",
       "      <td>FINCA Azerbaijan LLC</td>\n",
       "      <td>2018-12-24</td>\n",
       "      <td>2019-01-23</td>\n",
       "    </tr>\n",
       "    <tr>\n",
       "      <th>179</th>\n",
       "      <td>Incoming Tour Manager (new)</td>\n",
       "      <td>Exclusive and İnnovative E-Commerce Project in...</td>\n",
       "      <td>2019-01-08</td>\n",
       "      <td>2019-02-07</td>\n",
       "    </tr>\n",
       "    <tr>\n",
       "      <th>406</th>\n",
       "      <td>Destination Management Organisation Director, ...</td>\n",
       "      <td>Azerbaijan Tourism Board</td>\n",
       "      <td>2018-12-25</td>\n",
       "      <td>2019-01-24</td>\n",
       "    </tr>\n",
       "    <tr>\n",
       "      <th>472</th>\n",
       "      <td>Civil Engineer</td>\n",
       "      <td>AGA Group</td>\n",
       "      <td>2018-12-21</td>\n",
       "      <td>2019-01-20</td>\n",
       "    </tr>\n",
       "    <tr>\n",
       "      <th>632</th>\n",
       "      <td>Piyada Kuryer</td>\n",
       "      <td>Əjdaha MMC</td>\n",
       "      <td>2018-12-17</td>\n",
       "      <td>2019-01-16</td>\n",
       "    </tr>\n",
       "    <tr>\n",
       "      <th>291</th>\n",
       "      <td>Ofis meneceri və Direktorun köməkçisi (new)</td>\n",
       "      <td>Onlayn Travel Booking company</td>\n",
       "      <td>2019-01-03</td>\n",
       "      <td>2019-02-02</td>\n",
       "    </tr>\n",
       "    <tr>\n",
       "      <th>180</th>\n",
       "      <td>Komputer mühəndisi (new)</td>\n",
       "      <td>Developia Engineering Academy</td>\n",
       "      <td>2019-01-08</td>\n",
       "      <td>2019-02-07</td>\n",
       "    </tr>\n",
       "  </tbody>\n",
       "</table>\n",
       "</div>"
      ],
      "text/plain": [
       "0                                             POSITION  \\\n",
       "373                                         Translator   \n",
       "243                     Sales Manager in Tourism (new)   \n",
       "127                               Satış meneceri (new)   \n",
       "335                                  B2B Sales Manager   \n",
       "490                              Restaurant Supervisor   \n",
       "88                           Business consultant (new)   \n",
       "172                        Korporativ Hüquqşünas (new)   \n",
       "25          Korporativ sığorta şöbəsi, assistent (new)   \n",
       "79                               Sales Executive (new)   \n",
       "175                                IT Specialist (new)   \n",
       "526                                  Various positions   \n",
       "231                     İR üzrə kiçik mütəxəssis (new)   \n",
       "227                                      Mühasib (new)   \n",
       "581             Welding Engineer/ Qaynaq üzrə mühəndis   \n",
       "415                              Senior Tax Accountant   \n",
       "409                                           Dizayner   \n",
       "532           Менеджер по работе с ключевыми клиентами   \n",
       "229                                Sales Adviser (new)   \n",
       "137                   Ведущий PL/SQL разработчик (new)   \n",
       "156  SMM üzrə mütəxəssis ( marketinq üzrə mütəxəssi...   \n",
       "203                                Ofis Meneceri (new)   \n",
       "171                    HR and Payroll Specialist (new)   \n",
       "562            Bid manager (Head of Tender department)   \n",
       "439                         İnfrastruktur koordinatoru   \n",
       "179                        Incoming Tour Manager (new)   \n",
       "406  Destination Management Organisation Director, ...   \n",
       "472                                     Civil Engineer   \n",
       "632                                      Piyada Kuryer   \n",
       "291        Ofis meneceri və Direktorun köməkçisi (new)   \n",
       "180                           Komputer mühəndisi (new)   \n",
       "\n",
       "0                                             EMPLOYER      POSTED    DEADLINE  \n",
       "373                                    KPMG Azerbaijan  2018-12-27  2019-01-26  \n",
       "243                                            Company  2019-01-07  2019-02-06  \n",
       "127                                         Fil Agency  2019-01-09  2019-02-08  \n",
       "335                            Gulfstream Distribution  2018-12-28  2019-01-27  \n",
       "490                 Fairmont Baku, Hotels & Residences  2018-12-21  2019-01-20  \n",
       "88                                      RSM Azerbaijan  2019-01-10  2019-02-09  \n",
       "172                                            Unibank  2019-01-08  2019-02-07  \n",
       "25                                          PASHA Life  2019-01-11  2019-02-10  \n",
       "79                                               Hotel  2019-01-10  2019-02-09  \n",
       "175                                          PDL World  2019-01-08  2019-02-07  \n",
       "526                                  PASHA Inshaat LLC  2018-12-20  2019-01-19  \n",
       "231                                           Molbulak  2019-01-07  2019-02-06  \n",
       "227                                Kristal Abşeron MTK  2019-01-07  2019-02-06  \n",
       "581                                      BOS Shelf LLC  2018-12-18  2019-01-17  \n",
       "415                             Fashion Retail Company  2018-12-25  2019-01-24  \n",
       "409                                             Avrora  2018-12-25  2019-01-24  \n",
       "532                                             Lalafo  2018-12-19  2019-01-18  \n",
       "229                                               PUMA  2019-01-07  2019-02-06  \n",
       "137                                           VTB Bank  2019-01-09  2019-02-08  \n",
       "156                                 Bakı Taksi Xidməti  2019-01-08  2019-02-07  \n",
       "203                      Developia Engineering Academy  2019-01-07  2019-02-06  \n",
       "171  Caspian Entertainment Company LLC - Pasha Hold...  2019-01-08  2019-02-07  \n",
       "562                                       Evrascon ASC  2018-12-18  2019-01-17  \n",
       "439                               FINCA Azerbaijan LLC  2018-12-24  2019-01-23  \n",
       "179  Exclusive and İnnovative E-Commerce Project in...  2019-01-08  2019-02-07  \n",
       "406                           Azerbaijan Tourism Board  2018-12-25  2019-01-24  \n",
       "472                                          AGA Group  2018-12-21  2019-01-20  \n",
       "632                                         Əjdaha MMC  2018-12-17  2019-01-16  \n",
       "291                      Onlayn Travel Booking company  2019-01-03  2019-02-02  \n",
       "180                      Developia Engineering Academy  2019-01-08  2019-02-07  "
      ]
     },
     "execution_count": 8,
     "metadata": {},
     "output_type": "execute_result"
    }
   ],
   "source": [
    "jobs.sample(n=30)"
   ]
  },
  {
   "cell_type": "markdown",
   "metadata": {},
   "source": [
    "## $$3.\\ Data\\ cleaning$$"
   ]
  },
  {
   "cell_type": "code",
   "execution_count": 9,
   "metadata": {},
   "outputs": [
    {
     "name": "stdout",
     "output_type": "stream",
     "text": [
      "Dimension of the dataset : (691, 4)\n"
     ]
    },
    {
     "data": {
      "text/html": [
       "<div>\n",
       "<style scoped>\n",
       "    .dataframe tbody tr th:only-of-type {\n",
       "        vertical-align: middle;\n",
       "    }\n",
       "\n",
       "    .dataframe tbody tr th {\n",
       "        vertical-align: top;\n",
       "    }\n",
       "\n",
       "    .dataframe thead th {\n",
       "        text-align: right;\n",
       "    }\n",
       "</style>\n",
       "<table border=\"1\" class=\"dataframe\">\n",
       "  <thead>\n",
       "    <tr style=\"text-align: right;\">\n",
       "      <th></th>\n",
       "      <th>POSITION</th>\n",
       "      <th>EMPLOYER</th>\n",
       "      <th>POSTED</th>\n",
       "      <th>DEADLINE</th>\n",
       "    </tr>\n",
       "  </thead>\n",
       "  <tbody>\n",
       "    <tr>\n",
       "      <th>1</th>\n",
       "      <td>Специалист по продаже финансовых услуг (new)</td>\n",
       "      <td>Invest AZ QSC</td>\n",
       "      <td>2019-01-12</td>\n",
       "      <td>2019-02-11</td>\n",
       "    </tr>\n",
       "    <tr>\n",
       "      <th>2</th>\n",
       "      <td>Satış mühəndisi (new)</td>\n",
       "      <td>Bauger MMC</td>\n",
       "      <td>2019-01-11</td>\n",
       "      <td>2019-02-10</td>\n",
       "    </tr>\n",
       "    <tr>\n",
       "      <th>3</th>\n",
       "      <td>Texniki nəzarət üzrə mütəxəssis (new)</td>\n",
       "      <td>Metak</td>\n",
       "      <td>2019-01-11</td>\n",
       "      <td>2019-02-10</td>\n",
       "    </tr>\n",
       "    <tr>\n",
       "      <th>4</th>\n",
       "      <td>Tibbi nümayəndə (new)</td>\n",
       "      <td>Profderma</td>\n",
       "      <td>2019-01-11</td>\n",
       "      <td>2019-02-10</td>\n",
       "    </tr>\n",
       "    <tr>\n",
       "      <th>5</th>\n",
       "      <td>Alətçi-çilingər (new)</td>\n",
       "      <td>Metak</td>\n",
       "      <td>2019-01-11</td>\n",
       "      <td>2019-02-10</td>\n",
       "    </tr>\n",
       "  </tbody>\n",
       "</table>\n",
       "</div>"
      ],
      "text/plain": [
       "0                                      POSITION       EMPLOYER      POSTED  \\\n",
       "1  Специалист по продаже финансовых услуг (new)  Invest AZ QSC  2019-01-12   \n",
       "2                         Satış mühəndisi (new)     Bauger MMC  2019-01-11   \n",
       "3         Texniki nəzarət üzrə mütəxəssis (new)          Metak  2019-01-11   \n",
       "4                         Tibbi nümayəndə (new)      Profderma  2019-01-11   \n",
       "5                         Alətçi-çilingər (new)          Metak  2019-01-11   \n",
       "\n",
       "0    DEADLINE  \n",
       "1  2019-02-11  \n",
       "2  2019-02-10  \n",
       "3  2019-02-10  \n",
       "4  2019-02-10  \n",
       "5  2019-02-10  "
      ]
     },
     "execution_count": 9,
     "metadata": {},
     "output_type": "execute_result"
    }
   ],
   "source": [
    "print('Dimension of the dataset :', jobs.shape)\n",
    "jobs.head()"
   ]
  },
  {
   "cell_type": "markdown",
   "metadata": {},
   "source": [
    "Number of missing values per column."
   ]
  },
  {
   "cell_type": "code",
   "execution_count": 10,
   "metadata": {},
   "outputs": [
    {
     "data": {
      "text/plain": [
       "0\n",
       "POSITION    0\n",
       "EMPLOYER    0\n",
       "POSTED      0\n",
       "DEADLINE    0\n",
       "dtype: int64"
      ]
     },
     "execution_count": 10,
     "metadata": {},
     "output_type": "execute_result"
    }
   ],
   "source": [
    "jobs.isnull().sum()"
   ]
  },
  {
   "cell_type": "markdown",
   "metadata": {},
   "source": [
    "Get types per column."
   ]
  },
  {
   "cell_type": "code",
   "execution_count": 11,
   "metadata": {},
   "outputs": [
    {
     "data": {
      "text/plain": [
       "object    4\n",
       "dtype: int64"
      ]
     },
     "execution_count": 11,
     "metadata": {},
     "output_type": "execute_result"
    }
   ],
   "source": [
    "jobs.get_dtype_counts()"
   ]
  },
  {
   "cell_type": "code",
   "execution_count": null,
   "metadata": {},
   "outputs": [],
   "source": []
  },
  {
   "cell_type": "markdown",
   "metadata": {},
   "source": [
    "## $$4.\\ Feature\\ generation$$"
   ]
  },
  {
   "cell_type": "markdown",
   "metadata": {},
   "source": [
    "Dummy variable to seperate new and old features."
   ]
  },
  {
   "cell_type": "code",
   "execution_count": 12,
   "metadata": {},
   "outputs": [],
   "source": [
    "def is_new_job(pos):\n",
    "    '''Return dummy variable about '''\n",
    "    return 'New' if pos.split()[-1] == '(new)' else 'Old'"
   ]
  },
  {
   "cell_type": "code",
   "execution_count": 13,
   "metadata": {
    "scrolled": true
   },
   "outputs": [],
   "source": [
    "jobs = jobs.assign(is_new = jobs.POSITION.apply(lambda x: is_new_job(x)))"
   ]
  },
  {
   "cell_type": "markdown",
   "metadata": {},
   "source": [
    "Remove `(new)` tag from job position."
   ]
  },
  {
   "cell_type": "code",
   "execution_count": 14,
   "metadata": {},
   "outputs": [],
   "source": [
    "def clean_position(pos):\n",
    "    '''Cleaning Positions'''\n",
    "    pos = pos.lower()\n",
    "    # Without loop :)\n",
    "    pos_clean = ' '.join(pos.split()[0:-1])\n",
    "    #pos_clean = ' '.join(w for w in pos.split() if w != '(new)')\n",
    "    pos_clean = pos_clean.strip()\n",
    "    \n",
    "    return pos_clean"
   ]
  },
  {
   "cell_type": "code",
   "execution_count": 15,
   "metadata": {},
   "outputs": [
    {
     "data": {
      "text/html": [
       "<div>\n",
       "<style scoped>\n",
       "    .dataframe tbody tr th:only-of-type {\n",
       "        vertical-align: middle;\n",
       "    }\n",
       "\n",
       "    .dataframe tbody tr th {\n",
       "        vertical-align: top;\n",
       "    }\n",
       "\n",
       "    .dataframe thead th {\n",
       "        text-align: right;\n",
       "    }\n",
       "</style>\n",
       "<table border=\"1\" class=\"dataframe\">\n",
       "  <thead>\n",
       "    <tr style=\"text-align: right;\">\n",
       "      <th></th>\n",
       "      <th>POSITION</th>\n",
       "      <th>EMPLOYER</th>\n",
       "      <th>POSTED</th>\n",
       "      <th>DEADLINE</th>\n",
       "      <th>is_new</th>\n",
       "    </tr>\n",
       "  </thead>\n",
       "  <tbody>\n",
       "    <tr>\n",
       "      <th>1</th>\n",
       "      <td>Специалист по продаже финансовых услуг (new)</td>\n",
       "      <td>Invest AZ QSC</td>\n",
       "      <td>2019-01-12</td>\n",
       "      <td>2019-02-11</td>\n",
       "      <td>New</td>\n",
       "    </tr>\n",
       "    <tr>\n",
       "      <th>2</th>\n",
       "      <td>Satış mühəndisi (new)</td>\n",
       "      <td>Bauger MMC</td>\n",
       "      <td>2019-01-11</td>\n",
       "      <td>2019-02-10</td>\n",
       "      <td>New</td>\n",
       "    </tr>\n",
       "    <tr>\n",
       "      <th>3</th>\n",
       "      <td>Texniki nəzarət üzrə mütəxəssis (new)</td>\n",
       "      <td>Metak</td>\n",
       "      <td>2019-01-11</td>\n",
       "      <td>2019-02-10</td>\n",
       "      <td>New</td>\n",
       "    </tr>\n",
       "    <tr>\n",
       "      <th>4</th>\n",
       "      <td>Tibbi nümayəndə (new)</td>\n",
       "      <td>Profderma</td>\n",
       "      <td>2019-01-11</td>\n",
       "      <td>2019-02-10</td>\n",
       "      <td>New</td>\n",
       "    </tr>\n",
       "    <tr>\n",
       "      <th>5</th>\n",
       "      <td>Alətçi-çilingər (new)</td>\n",
       "      <td>Metak</td>\n",
       "      <td>2019-01-11</td>\n",
       "      <td>2019-02-10</td>\n",
       "      <td>New</td>\n",
       "    </tr>\n",
       "  </tbody>\n",
       "</table>\n",
       "</div>"
      ],
      "text/plain": [
       "0                                      POSITION       EMPLOYER      POSTED  \\\n",
       "1  Специалист по продаже финансовых услуг (new)  Invest AZ QSC  2019-01-12   \n",
       "2                         Satış mühəndisi (new)     Bauger MMC  2019-01-11   \n",
       "3         Texniki nəzarət üzrə mütəxəssis (new)          Metak  2019-01-11   \n",
       "4                         Tibbi nümayəndə (new)      Profderma  2019-01-11   \n",
       "5                         Alətçi-çilingər (new)          Metak  2019-01-11   \n",
       "\n",
       "0    DEADLINE is_new  \n",
       "1  2019-02-11    New  \n",
       "2  2019-02-10    New  \n",
       "3  2019-02-10    New  \n",
       "4  2019-02-10    New  \n",
       "5  2019-02-10    New  "
      ]
     },
     "execution_count": 15,
     "metadata": {},
     "output_type": "execute_result"
    }
   ],
   "source": [
    "jobs.head()"
   ]
  },
  {
   "cell_type": "code",
   "execution_count": 16,
   "metadata": {
    "scrolled": true
   },
   "outputs": [],
   "source": [
    "jobs = jobs.assign(POSITION = jobs.POSITION.apply(lambda x: clean_position(x)))"
   ]
  },
  {
   "cell_type": "code",
   "execution_count": 17,
   "metadata": {},
   "outputs": [
    {
     "data": {
      "text/html": [
       "<div>\n",
       "<style scoped>\n",
       "    .dataframe tbody tr th:only-of-type {\n",
       "        vertical-align: middle;\n",
       "    }\n",
       "\n",
       "    .dataframe tbody tr th {\n",
       "        vertical-align: top;\n",
       "    }\n",
       "\n",
       "    .dataframe thead th {\n",
       "        text-align: right;\n",
       "    }\n",
       "</style>\n",
       "<table border=\"1\" class=\"dataframe\">\n",
       "  <thead>\n",
       "    <tr style=\"text-align: right;\">\n",
       "      <th></th>\n",
       "      <th>POSITION</th>\n",
       "      <th>EMPLOYER</th>\n",
       "      <th>POSTED</th>\n",
       "      <th>DEADLINE</th>\n",
       "      <th>is_new</th>\n",
       "    </tr>\n",
       "  </thead>\n",
       "  <tbody>\n",
       "    <tr>\n",
       "      <th>1</th>\n",
       "      <td>специалист по продаже финансовых услуг</td>\n",
       "      <td>Invest AZ QSC</td>\n",
       "      <td>2019-01-12</td>\n",
       "      <td>2019-02-11</td>\n",
       "      <td>New</td>\n",
       "    </tr>\n",
       "    <tr>\n",
       "      <th>2</th>\n",
       "      <td>satış mühəndisi</td>\n",
       "      <td>Bauger MMC</td>\n",
       "      <td>2019-01-11</td>\n",
       "      <td>2019-02-10</td>\n",
       "      <td>New</td>\n",
       "    </tr>\n",
       "    <tr>\n",
       "      <th>3</th>\n",
       "      <td>texniki nəzarət üzrə mütəxəssis</td>\n",
       "      <td>Metak</td>\n",
       "      <td>2019-01-11</td>\n",
       "      <td>2019-02-10</td>\n",
       "      <td>New</td>\n",
       "    </tr>\n",
       "    <tr>\n",
       "      <th>4</th>\n",
       "      <td>tibbi nümayəndə</td>\n",
       "      <td>Profderma</td>\n",
       "      <td>2019-01-11</td>\n",
       "      <td>2019-02-10</td>\n",
       "      <td>New</td>\n",
       "    </tr>\n",
       "    <tr>\n",
       "      <th>5</th>\n",
       "      <td>alətçi-çilingər</td>\n",
       "      <td>Metak</td>\n",
       "      <td>2019-01-11</td>\n",
       "      <td>2019-02-10</td>\n",
       "      <td>New</td>\n",
       "    </tr>\n",
       "  </tbody>\n",
       "</table>\n",
       "</div>"
      ],
      "text/plain": [
       "0                                POSITION       EMPLOYER      POSTED  \\\n",
       "1  специалист по продаже финансовых услуг  Invest AZ QSC  2019-01-12   \n",
       "2                         satış mühəndisi     Bauger MMC  2019-01-11   \n",
       "3         texniki nəzarət üzrə mütəxəssis          Metak  2019-01-11   \n",
       "4                         tibbi nümayəndə      Profderma  2019-01-11   \n",
       "5                         alətçi-çilingər          Metak  2019-01-11   \n",
       "\n",
       "0    DEADLINE is_new  \n",
       "1  2019-02-11    New  \n",
       "2  2019-02-10    New  \n",
       "3  2019-02-10    New  \n",
       "4  2019-02-10    New  \n",
       "5  2019-02-10    New  "
      ]
     },
     "execution_count": 17,
     "metadata": {},
     "output_type": "execute_result"
    }
   ],
   "source": [
    "jobs.head()"
   ]
  },
  {
   "cell_type": "markdown",
   "metadata": {},
   "source": [
    "Convert string to date type. Add datetime variables:\n",
    "\n",
    "* Weekday\n",
    "* Month"
   ]
  },
  {
   "cell_type": "code",
   "execution_count": 18,
   "metadata": {},
   "outputs": [],
   "source": [
    "jobs.POSTED = pd.to_datetime(jobs.POSTED) # convert to date type\n",
    "jobs.DEADLINE = pd.to_datetime(jobs.DEADLINE) # convert to date type\n",
    "\n",
    "month_name = {\n",
    "    1 : 'Yanvar',\n",
    "    2 : 'Fevral',\n",
    "    3 : 'Mart',\n",
    "    4 : 'Aprel',\n",
    "    5 : 'May',\n",
    "    6 : 'Iyun',\n",
    "    7 : 'Iyul',\n",
    "    8 : 'Avqust',\n",
    "    9 : 'Sentyabr',\n",
    "    10 : 'Oktyabr',\n",
    "    11 : 'Noyabr',\n",
    "    12 : 'Dekabr'\n",
    "}\n",
    "\n",
    "jobs = jobs.assign(posted_month = jobs.POSTED.dt.month.map(month_name))\n",
    "jobs = jobs.assign(posted_weekday = jobs.POSTED.dt.weekday_name)"
   ]
  },
  {
   "cell_type": "markdown",
   "metadata": {},
   "source": [
    "Find out `position` language, in which language the position was published."
   ]
  },
  {
   "cell_type": "code",
   "execution_count": 19,
   "metadata": {},
   "outputs": [],
   "source": [
    "def convert_language(lang):\n",
    "    '''Convert language name and group them'''\n",
    "    if lang == 'tr':\n",
    "        return 'az'\n",
    "    elif lang in ['en', 'ru']:\n",
    "        return lang\n",
    "    else:\n",
    "        return 'other'"
   ]
  },
  {
   "cell_type": "code",
   "execution_count": 21,
   "metadata": {},
   "outputs": [
    {
     "ename": "LangDetectException",
     "evalue": "No features in text.",
     "output_type": "error",
     "traceback": [
      "\u001b[0;31m---------------------------------------------------------------------------\u001b[0m",
      "\u001b[0;31mLangDetectException\u001b[0m                       Traceback (most recent call last)",
      "\u001b[0;32m<ipython-input-21-3c005fe043aa>\u001b[0m in \u001b[0;36m<module>\u001b[0;34m\u001b[0m\n\u001b[0;32m----> 1\u001b[0;31m \u001b[0mjobs\u001b[0m \u001b[0;34m=\u001b[0m \u001b[0mjobs\u001b[0m\u001b[0;34m.\u001b[0m\u001b[0massign\u001b[0m\u001b[0;34m(\u001b[0m\u001b[0mposition_lang\u001b[0m \u001b[0;34m=\u001b[0m \u001b[0mjobs\u001b[0m\u001b[0;34m.\u001b[0m\u001b[0mPOSITION\u001b[0m\u001b[0;34m.\u001b[0m\u001b[0mapply\u001b[0m\u001b[0;34m(\u001b[0m\u001b[0;32mlambda\u001b[0m \u001b[0mx\u001b[0m\u001b[0;34m:\u001b[0m \u001b[0mlangdetect\u001b[0m\u001b[0;34m.\u001b[0m\u001b[0mdetect\u001b[0m\u001b[0;34m(\u001b[0m\u001b[0mx\u001b[0m\u001b[0;34m)\u001b[0m\u001b[0;34m)\u001b[0m\u001b[0;34m)\u001b[0m\u001b[0;34m\u001b[0m\u001b[0;34m\u001b[0m\u001b[0m\n\u001b[0m\u001b[1;32m      2\u001b[0m \u001b[0mjobs\u001b[0m \u001b[0;34m=\u001b[0m \u001b[0mjobs\u001b[0m\u001b[0;34m.\u001b[0m\u001b[0massign\u001b[0m\u001b[0;34m(\u001b[0m\u001b[0mposition_lang\u001b[0m \u001b[0;34m=\u001b[0m \u001b[0mjobs\u001b[0m\u001b[0;34m[\u001b[0m\u001b[0;34m'position_lang'\u001b[0m\u001b[0;34m]\u001b[0m\u001b[0;34m.\u001b[0m\u001b[0mmap\u001b[0m\u001b[0;34m(\u001b[0m\u001b[0mconvert_language\u001b[0m\u001b[0;34m)\u001b[0m\u001b[0;34m)\u001b[0m\u001b[0;34m\u001b[0m\u001b[0;34m\u001b[0m\u001b[0m\n\u001b[1;32m      3\u001b[0m \u001b[0;32mfrom\u001b[0m \u001b[0mIPython\u001b[0m\u001b[0;34m.\u001b[0m\u001b[0mdisplay\u001b[0m \u001b[0;32mimport\u001b[0m \u001b[0mclear_output\u001b[0m\u001b[0;34m\u001b[0m\u001b[0;34m\u001b[0m\u001b[0m\n\u001b[1;32m      4\u001b[0m \u001b[0mclear_output\u001b[0m\u001b[0;34m(\u001b[0m\u001b[0mwait\u001b[0m\u001b[0;34m=\u001b[0m\u001b[0;32mTrue\u001b[0m\u001b[0;34m)\u001b[0m\u001b[0;34m\u001b[0m\u001b[0;34m\u001b[0m\u001b[0m\n",
      "\u001b[0;32m~/virtualenvs/jupyter_lab/lib/python3.6/site-packages/pandas/core/series.py\u001b[0m in \u001b[0;36mapply\u001b[0;34m(self, func, convert_dtype, args, **kwds)\u001b[0m\n\u001b[1;32m   3192\u001b[0m             \u001b[0;32melse\u001b[0m\u001b[0;34m:\u001b[0m\u001b[0;34m\u001b[0m\u001b[0;34m\u001b[0m\u001b[0m\n\u001b[1;32m   3193\u001b[0m                 \u001b[0mvalues\u001b[0m \u001b[0;34m=\u001b[0m \u001b[0mself\u001b[0m\u001b[0;34m.\u001b[0m\u001b[0mastype\u001b[0m\u001b[0;34m(\u001b[0m\u001b[0mobject\u001b[0m\u001b[0;34m)\u001b[0m\u001b[0;34m.\u001b[0m\u001b[0mvalues\u001b[0m\u001b[0;34m\u001b[0m\u001b[0;34m\u001b[0m\u001b[0m\n\u001b[0;32m-> 3194\u001b[0;31m                 \u001b[0mmapped\u001b[0m \u001b[0;34m=\u001b[0m \u001b[0mlib\u001b[0m\u001b[0;34m.\u001b[0m\u001b[0mmap_infer\u001b[0m\u001b[0;34m(\u001b[0m\u001b[0mvalues\u001b[0m\u001b[0;34m,\u001b[0m \u001b[0mf\u001b[0m\u001b[0;34m,\u001b[0m \u001b[0mconvert\u001b[0m\u001b[0;34m=\u001b[0m\u001b[0mconvert_dtype\u001b[0m\u001b[0;34m)\u001b[0m\u001b[0;34m\u001b[0m\u001b[0;34m\u001b[0m\u001b[0m\n\u001b[0m\u001b[1;32m   3195\u001b[0m \u001b[0;34m\u001b[0m\u001b[0m\n\u001b[1;32m   3196\u001b[0m         \u001b[0;32mif\u001b[0m \u001b[0mlen\u001b[0m\u001b[0;34m(\u001b[0m\u001b[0mmapped\u001b[0m\u001b[0;34m)\u001b[0m \u001b[0;32mand\u001b[0m \u001b[0misinstance\u001b[0m\u001b[0;34m(\u001b[0m\u001b[0mmapped\u001b[0m\u001b[0;34m[\u001b[0m\u001b[0;36m0\u001b[0m\u001b[0;34m]\u001b[0m\u001b[0;34m,\u001b[0m \u001b[0mSeries\u001b[0m\u001b[0;34m)\u001b[0m\u001b[0;34m:\u001b[0m\u001b[0;34m\u001b[0m\u001b[0;34m\u001b[0m\u001b[0m\n",
      "\u001b[0;32mpandas/_libs/src/inference.pyx\u001b[0m in \u001b[0;36mpandas._libs.lib.map_infer\u001b[0;34m()\u001b[0m\n",
      "\u001b[0;32m<ipython-input-21-3c005fe043aa>\u001b[0m in \u001b[0;36m<lambda>\u001b[0;34m(x)\u001b[0m\n\u001b[0;32m----> 1\u001b[0;31m \u001b[0mjobs\u001b[0m \u001b[0;34m=\u001b[0m \u001b[0mjobs\u001b[0m\u001b[0;34m.\u001b[0m\u001b[0massign\u001b[0m\u001b[0;34m(\u001b[0m\u001b[0mposition_lang\u001b[0m \u001b[0;34m=\u001b[0m \u001b[0mjobs\u001b[0m\u001b[0;34m.\u001b[0m\u001b[0mPOSITION\u001b[0m\u001b[0;34m.\u001b[0m\u001b[0mapply\u001b[0m\u001b[0;34m(\u001b[0m\u001b[0;32mlambda\u001b[0m \u001b[0mx\u001b[0m\u001b[0;34m:\u001b[0m \u001b[0mlangdetect\u001b[0m\u001b[0;34m.\u001b[0m\u001b[0mdetect\u001b[0m\u001b[0;34m(\u001b[0m\u001b[0mx\u001b[0m\u001b[0;34m)\u001b[0m\u001b[0;34m)\u001b[0m\u001b[0;34m)\u001b[0m\u001b[0;34m\u001b[0m\u001b[0;34m\u001b[0m\u001b[0m\n\u001b[0m\u001b[1;32m      2\u001b[0m \u001b[0mjobs\u001b[0m \u001b[0;34m=\u001b[0m \u001b[0mjobs\u001b[0m\u001b[0;34m.\u001b[0m\u001b[0massign\u001b[0m\u001b[0;34m(\u001b[0m\u001b[0mposition_lang\u001b[0m \u001b[0;34m=\u001b[0m \u001b[0mjobs\u001b[0m\u001b[0;34m[\u001b[0m\u001b[0;34m'position_lang'\u001b[0m\u001b[0;34m]\u001b[0m\u001b[0;34m.\u001b[0m\u001b[0mmap\u001b[0m\u001b[0;34m(\u001b[0m\u001b[0mconvert_language\u001b[0m\u001b[0;34m)\u001b[0m\u001b[0;34m)\u001b[0m\u001b[0;34m\u001b[0m\u001b[0;34m\u001b[0m\u001b[0m\n\u001b[1;32m      3\u001b[0m \u001b[0;32mfrom\u001b[0m \u001b[0mIPython\u001b[0m\u001b[0;34m.\u001b[0m\u001b[0mdisplay\u001b[0m \u001b[0;32mimport\u001b[0m \u001b[0mclear_output\u001b[0m\u001b[0;34m\u001b[0m\u001b[0;34m\u001b[0m\u001b[0m\n\u001b[1;32m      4\u001b[0m \u001b[0mclear_output\u001b[0m\u001b[0;34m(\u001b[0m\u001b[0mwait\u001b[0m\u001b[0;34m=\u001b[0m\u001b[0;32mTrue\u001b[0m\u001b[0;34m)\u001b[0m\u001b[0;34m\u001b[0m\u001b[0;34m\u001b[0m\u001b[0m\n",
      "\u001b[0;32m~/virtualenvs/jupyter_lab/lib/python3.6/site-packages/langdetect/detector_factory.py\u001b[0m in \u001b[0;36mdetect\u001b[0;34m(text)\u001b[0m\n\u001b[1;32m    128\u001b[0m     \u001b[0mdetector\u001b[0m \u001b[0;34m=\u001b[0m \u001b[0m_factory\u001b[0m\u001b[0;34m.\u001b[0m\u001b[0mcreate\u001b[0m\u001b[0;34m(\u001b[0m\u001b[0;34m)\u001b[0m\u001b[0;34m\u001b[0m\u001b[0;34m\u001b[0m\u001b[0m\n\u001b[1;32m    129\u001b[0m     \u001b[0mdetector\u001b[0m\u001b[0;34m.\u001b[0m\u001b[0mappend\u001b[0m\u001b[0;34m(\u001b[0m\u001b[0mtext\u001b[0m\u001b[0;34m)\u001b[0m\u001b[0;34m\u001b[0m\u001b[0;34m\u001b[0m\u001b[0m\n\u001b[0;32m--> 130\u001b[0;31m     \u001b[0;32mreturn\u001b[0m \u001b[0mdetector\u001b[0m\u001b[0;34m.\u001b[0m\u001b[0mdetect\u001b[0m\u001b[0;34m(\u001b[0m\u001b[0;34m)\u001b[0m\u001b[0;34m\u001b[0m\u001b[0;34m\u001b[0m\u001b[0m\n\u001b[0m\u001b[1;32m    131\u001b[0m \u001b[0;34m\u001b[0m\u001b[0m\n\u001b[1;32m    132\u001b[0m \u001b[0;34m\u001b[0m\u001b[0m\n",
      "\u001b[0;32m~/virtualenvs/jupyter_lab/lib/python3.6/site-packages/langdetect/detector.py\u001b[0m in \u001b[0;36mdetect\u001b[0;34m(self)\u001b[0m\n\u001b[1;32m    134\u001b[0m         \u001b[0mwhich\u001b[0m \u001b[0mhas\u001b[0m \u001b[0mthe\u001b[0m \u001b[0mhighest\u001b[0m \u001b[0mprobability\u001b[0m\u001b[0;34m.\u001b[0m\u001b[0;34m\u001b[0m\u001b[0;34m\u001b[0m\u001b[0m\n\u001b[1;32m    135\u001b[0m         '''\n\u001b[0;32m--> 136\u001b[0;31m         \u001b[0mprobabilities\u001b[0m \u001b[0;34m=\u001b[0m \u001b[0mself\u001b[0m\u001b[0;34m.\u001b[0m\u001b[0mget_probabilities\u001b[0m\u001b[0;34m(\u001b[0m\u001b[0;34m)\u001b[0m\u001b[0;34m\u001b[0m\u001b[0;34m\u001b[0m\u001b[0m\n\u001b[0m\u001b[1;32m    137\u001b[0m         \u001b[0;32mif\u001b[0m \u001b[0mprobabilities\u001b[0m\u001b[0;34m:\u001b[0m\u001b[0;34m\u001b[0m\u001b[0;34m\u001b[0m\u001b[0m\n\u001b[1;32m    138\u001b[0m             \u001b[0;32mreturn\u001b[0m \u001b[0mprobabilities\u001b[0m\u001b[0;34m[\u001b[0m\u001b[0;36m0\u001b[0m\u001b[0;34m]\u001b[0m\u001b[0;34m.\u001b[0m\u001b[0mlang\u001b[0m\u001b[0;34m\u001b[0m\u001b[0;34m\u001b[0m\u001b[0m\n",
      "\u001b[0;32m~/virtualenvs/jupyter_lab/lib/python3.6/site-packages/langdetect/detector.py\u001b[0m in \u001b[0;36mget_probabilities\u001b[0;34m(self)\u001b[0m\n\u001b[1;32m    141\u001b[0m     \u001b[0;32mdef\u001b[0m \u001b[0mget_probabilities\u001b[0m\u001b[0;34m(\u001b[0m\u001b[0mself\u001b[0m\u001b[0;34m)\u001b[0m\u001b[0;34m:\u001b[0m\u001b[0;34m\u001b[0m\u001b[0;34m\u001b[0m\u001b[0m\n\u001b[1;32m    142\u001b[0m         \u001b[0;32mif\u001b[0m \u001b[0mself\u001b[0m\u001b[0;34m.\u001b[0m\u001b[0mlangprob\u001b[0m \u001b[0;32mis\u001b[0m \u001b[0;32mNone\u001b[0m\u001b[0;34m:\u001b[0m\u001b[0;34m\u001b[0m\u001b[0;34m\u001b[0m\u001b[0m\n\u001b[0;32m--> 143\u001b[0;31m             \u001b[0mself\u001b[0m\u001b[0;34m.\u001b[0m\u001b[0m_detect_block\u001b[0m\u001b[0;34m(\u001b[0m\u001b[0;34m)\u001b[0m\u001b[0;34m\u001b[0m\u001b[0;34m\u001b[0m\u001b[0m\n\u001b[0m\u001b[1;32m    144\u001b[0m         \u001b[0;32mreturn\u001b[0m \u001b[0mself\u001b[0m\u001b[0;34m.\u001b[0m\u001b[0m_sort_probability\u001b[0m\u001b[0;34m(\u001b[0m\u001b[0mself\u001b[0m\u001b[0;34m.\u001b[0m\u001b[0mlangprob\u001b[0m\u001b[0;34m)\u001b[0m\u001b[0;34m\u001b[0m\u001b[0;34m\u001b[0m\u001b[0m\n\u001b[1;32m    145\u001b[0m \u001b[0;34m\u001b[0m\u001b[0m\n",
      "\u001b[0;32m~/virtualenvs/jupyter_lab/lib/python3.6/site-packages/langdetect/detector.py\u001b[0m in \u001b[0;36m_detect_block\u001b[0;34m(self)\u001b[0m\n\u001b[1;32m    148\u001b[0m         \u001b[0mngrams\u001b[0m \u001b[0;34m=\u001b[0m \u001b[0mself\u001b[0m\u001b[0;34m.\u001b[0m\u001b[0m_extract_ngrams\u001b[0m\u001b[0;34m(\u001b[0m\u001b[0;34m)\u001b[0m\u001b[0;34m\u001b[0m\u001b[0;34m\u001b[0m\u001b[0m\n\u001b[1;32m    149\u001b[0m         \u001b[0;32mif\u001b[0m \u001b[0;32mnot\u001b[0m \u001b[0mngrams\u001b[0m\u001b[0;34m:\u001b[0m\u001b[0;34m\u001b[0m\u001b[0;34m\u001b[0m\u001b[0m\n\u001b[0;32m--> 150\u001b[0;31m             \u001b[0;32mraise\u001b[0m \u001b[0mLangDetectException\u001b[0m\u001b[0;34m(\u001b[0m\u001b[0mErrorCode\u001b[0m\u001b[0;34m.\u001b[0m\u001b[0mCantDetectError\u001b[0m\u001b[0;34m,\u001b[0m \u001b[0;34m'No features in text.'\u001b[0m\u001b[0;34m)\u001b[0m\u001b[0;34m\u001b[0m\u001b[0;34m\u001b[0m\u001b[0m\n\u001b[0m\u001b[1;32m    151\u001b[0m \u001b[0;34m\u001b[0m\u001b[0m\n\u001b[1;32m    152\u001b[0m         \u001b[0mself\u001b[0m\u001b[0;34m.\u001b[0m\u001b[0mlangprob\u001b[0m \u001b[0;34m=\u001b[0m \u001b[0;34m[\u001b[0m\u001b[0;36m0.0\u001b[0m\u001b[0;34m]\u001b[0m \u001b[0;34m*\u001b[0m \u001b[0mlen\u001b[0m\u001b[0;34m(\u001b[0m\u001b[0mself\u001b[0m\u001b[0;34m.\u001b[0m\u001b[0mlanglist\u001b[0m\u001b[0;34m)\u001b[0m\u001b[0;34m\u001b[0m\u001b[0;34m\u001b[0m\u001b[0m\n",
      "\u001b[0;31mLangDetectException\u001b[0m: No features in text."
     ]
    }
   ],
   "source": [
    "jobs = jobs.assign(position_lang = jobs.POSITION.apply(lambda x: langdetect.detect(x)))\n",
    "jobs = jobs.assign(position_lang = jobs['position_lang'].map(convert_language))"
   ]
  },
  {
   "cell_type": "code",
   "execution_count": null,
   "metadata": {},
   "outputs": [],
   "source": [
    "jobs.head()"
   ]
  },
  {
   "cell_type": "code",
   "execution_count": null,
   "metadata": {},
   "outputs": [],
   "source": [
    "jobs.position_lang.value_counts(normalize=True) * 100"
   ]
  },
  {
   "cell_type": "code",
   "execution_count": null,
   "metadata": {
    "scrolled": true
   },
   "outputs": [],
   "source": [
    "jobs[jobs.position_lang == 'other'].head()"
   ]
  },
  {
   "cell_type": "markdown",
   "metadata": {},
   "source": [
    "Get type of `employer`"
   ]
  },
  {
   "cell_type": "code",
   "execution_count": null,
   "metadata": {},
   "outputs": [],
   "source": [
    "# get last word from EMPLOYER\n",
    "emp_type = jobs.EMPLOYER.apply(lambda x: x.split()[-1])"
   ]
  },
  {
   "cell_type": "code",
   "execution_count": null,
   "metadata": {},
   "outputs": [],
   "source": [
    "emp_type.value_counts(normalize=False).head(10) # top 10 employer type"
   ]
  },
  {
   "cell_type": "markdown",
   "metadata": {},
   "source": [
    "We have the most popular employer type."
   ]
  },
  {
   "cell_type": "code",
   "execution_count": null,
   "metadata": {},
   "outputs": [],
   "source": []
  },
  {
   "cell_type": "code",
   "execution_count": null,
   "metadata": {},
   "outputs": [],
   "source": [
    "def get_employer_type(employer):\n",
    "    '''Get employer type'''\n",
    "    emp_types = ['LLC', 'MMC', 'ASC', 'Group', 'Holding', 'Bank', 'LTD']\n",
    "    last_word = employer.split()[-1]\n",
    "    return last_word if last_word in emp_types else 'Other'"
   ]
  },
  {
   "cell_type": "code",
   "execution_count": null,
   "metadata": {},
   "outputs": [],
   "source": [
    "jobs = jobs.assign(employer_type = jobs.EMPLOYER.apply(lambda x: get_employer_type(x)))"
   ]
  },
  {
   "cell_type": "code",
   "execution_count": null,
   "metadata": {},
   "outputs": [],
   "source": [
    "jobs.employer_type.value_counts(normalize=True) * 100"
   ]
  },
  {
   "cell_type": "code",
   "execution_count": null,
   "metadata": {},
   "outputs": [],
   "source": []
  },
  {
   "cell_type": "markdown",
   "metadata": {},
   "source": [
    "## $$5.\\ Visualization$$"
   ]
  },
  {
   "cell_type": "code",
   "execution_count": null,
   "metadata": {},
   "outputs": [],
   "source": [
    "jobs.head()"
   ]
  },
  {
   "cell_type": "markdown",
   "metadata": {},
   "source": [
    "Timeline of job publishment."
   ]
  },
  {
   "cell_type": "code",
   "execution_count": null,
   "metadata": {
    "scrolled": false
   },
   "outputs": [],
   "source": [
    "fig, ax = plt.subplots(figsize=(15,7))\n",
    "jobs.groupby(['POSTED'])['POSTED'].count().plot(ax=ax)"
   ]
  },
  {
   "cell_type": "code",
   "execution_count": null,
   "metadata": {},
   "outputs": [],
   "source": [
    "jobs.POSTED.value_counts().head() # top 6 date with number of job ads"
   ]
  },
  {
   "cell_type": "markdown",
   "metadata": {},
   "source": [
    "The most frequent `Employer` with jobs ads."
   ]
  },
  {
   "cell_type": "code",
   "execution_count": null,
   "metadata": {
    "scrolled": true
   },
   "outputs": [],
   "source": [
    "jobs.EMPLOYER.value_counts().head(10)"
   ]
  },
  {
   "cell_type": "markdown",
   "metadata": {},
   "source": [
    "The most frequent `Position`."
   ]
  },
  {
   "cell_type": "code",
   "execution_count": null,
   "metadata": {},
   "outputs": [],
   "source": [
    "jobs.POSITION.value_counts().head(10)"
   ]
  },
  {
   "cell_type": "markdown",
   "metadata": {},
   "source": [
    "When the most popular day to publish job description."
   ]
  },
  {
   "cell_type": "code",
   "execution_count": null,
   "metadata": {},
   "outputs": [],
   "source": [
    "sns.countplot(y=jobs.posted_weekday, \n",
    "              order = jobs.posted_weekday.value_counts().index)"
   ]
  },
  {
   "cell_type": "markdown",
   "metadata": {},
   "source": [
    "Frequency of the job insertion."
   ]
  },
  {
   "cell_type": "code",
   "execution_count": null,
   "metadata": {},
   "outputs": [],
   "source": [
    "sns.countplot(jobs.is_new)"
   ]
  },
  {
   "cell_type": "code",
   "execution_count": null,
   "metadata": {},
   "outputs": [],
   "source": []
  },
  {
   "cell_type": "markdown",
   "metadata": {},
   "source": [
    "Frequency of the `employer type`"
   ]
  },
  {
   "cell_type": "code",
   "execution_count": null,
   "metadata": {},
   "outputs": [],
   "source": [
    "sns.countplot(y=jobs.employer_type,\n",
    "              order=jobs.employer_type.value_counts().index)"
   ]
  },
  {
   "cell_type": "markdown",
   "metadata": {},
   "source": [
    "Frequency of the `position language`"
   ]
  },
  {
   "cell_type": "code",
   "execution_count": null,
   "metadata": {},
   "outputs": [],
   "source": [
    "sns.countplot(y=jobs.position_lang,\n",
    "              order=jobs.position_lang.value_counts().index)"
   ]
  },
  {
   "cell_type": "code",
   "execution_count": null,
   "metadata": {},
   "outputs": [],
   "source": []
  },
  {
   "cell_type": "code",
   "execution_count": null,
   "metadata": {},
   "outputs": [],
   "source": [
    "jobs.head()"
   ]
  },
  {
   "cell_type": "code",
   "execution_count": null,
   "metadata": {},
   "outputs": [],
   "source": []
  },
  {
   "cell_type": "markdown",
   "metadata": {},
   "source": [
    "## Word Cloud of Position"
   ]
  },
  {
   "cell_type": "code",
   "execution_count": null,
   "metadata": {},
   "outputs": [],
   "source": [
    "def show_wordcloud(data, title = None):\n",
    "    wordcloud = WordCloud(\n",
    "        background_color='white',\n",
    "        max_words=75,\n",
    "        max_font_size=40, \n",
    "        scale=7,\n",
    "        random_state=1 # chosen at random by flipping a coin; it was heads\n",
    "    ).generate(str(data))\n",
    "\n",
    "    fig = plt.figure(1, figsize=(12, 12))\n",
    "    plt.axis('off')\n",
    "    if title: \n",
    "        fig.suptitle(title, fontsize=20)\n",
    "        fig.subplots_adjust(top=2.3)\n",
    "\n",
    "    plt.imshow(wordcloud)\n",
    "    plt.show()"
   ]
  },
  {
   "cell_type": "markdown",
   "metadata": {},
   "source": [
    "### POSITION"
   ]
  },
  {
   "cell_type": "markdown",
   "metadata": {},
   "source": [
    "`AZ`"
   ]
  },
  {
   "cell_type": "markdown",
   "metadata": {},
   "source": [
    "### `long version`"
   ]
  },
  {
   "cell_type": "code",
   "execution_count": null,
   "metadata": {},
   "outputs": [],
   "source": [
    "filter_by_lang = jobs.POSITION[jobs.position_lang == 'az']\n",
    "text = []\n",
    "\n",
    "# seperate each word from `position`\n",
    "for sen in filter_by_lang.str.split(): # for each sentence\n",
    "    for w in sen: # for each word\n",
    "        text.append(w)\n",
    "\n",
    "# combine into a string\n",
    "text = ' '.join(text)\n",
    "\n",
    "# word cloud\n",
    "show_wordcloud(text)"
   ]
  },
  {
   "cell_type": "markdown",
   "metadata": {},
   "source": [
    "### `short version`"
   ]
  },
  {
   "cell_type": "code",
   "execution_count": null,
   "metadata": {},
   "outputs": [],
   "source": [
    "text = ' '.join(w for sen in jobs.POSITION[jobs.position_lang == 'az'].str.split() for w in sen)\n",
    "show_wordcloud(text)"
   ]
  },
  {
   "cell_type": "markdown",
   "metadata": {},
   "source": [
    "`EN`"
   ]
  },
  {
   "cell_type": "code",
   "execution_count": null,
   "metadata": {},
   "outputs": [],
   "source": [
    "text = ' '.join(w for sen in jobs.POSITION[jobs.position_lang == 'en'].str.split() for w in sen)\n",
    "show_wordcloud(text)"
   ]
  },
  {
   "cell_type": "markdown",
   "metadata": {},
   "source": [
    "`RU`"
   ]
  },
  {
   "cell_type": "code",
   "execution_count": null,
   "metadata": {},
   "outputs": [],
   "source": [
    "text = ' '.join(w for sen in jobs.POSITION[jobs.position_lang == 'ru'].str.split() for w in sen)\n",
    "show_wordcloud(text)"
   ]
  },
  {
   "cell_type": "markdown",
   "metadata": {},
   "source": [
    "`OTHER`"
   ]
  },
  {
   "cell_type": "code",
   "execution_count": null,
   "metadata": {},
   "outputs": [],
   "source": [
    "text = ' '.join(w for sen in jobs.POSITION[jobs.position_lang == 'other'].str.split() for w in sen)\n",
    "show_wordcloud(text)"
   ]
  },
  {
   "cell_type": "code",
   "execution_count": null,
   "metadata": {},
   "outputs": [],
   "source": []
  },
  {
   "cell_type": "markdown",
   "metadata": {},
   "source": [
    "## EMPLOYER"
   ]
  },
  {
   "cell_type": "code",
   "execution_count": null,
   "metadata": {},
   "outputs": [],
   "source": [
    "text = ' '.join(w for sen in jobs.EMPLOYER.str.split() for w in sen)\n",
    "show_wordcloud(text)"
   ]
  },
  {
   "cell_type": "code",
   "execution_count": null,
   "metadata": {},
   "outputs": [],
   "source": []
  },
  {
   "cell_type": "code",
   "execution_count": null,
   "metadata": {},
   "outputs": [],
   "source": []
  }
 ],
 "metadata": {
  "kernelspec": {
   "display_name": "Python 3",
   "language": "python",
   "name": "python3"
  },
  "language_info": {
   "codemirror_mode": {
    "name": "ipython",
    "version": 3
   },
   "file_extension": ".py",
   "mimetype": "text/x-python",
   "name": "python",
   "nbconvert_exporter": "python",
   "pygments_lexer": "ipython3",
   "version": "3.6.6"
  }
 },
 "nbformat": 4,
 "nbformat_minor": 2
}
